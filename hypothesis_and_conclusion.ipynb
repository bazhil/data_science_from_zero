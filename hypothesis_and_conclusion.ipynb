{
 "cells": [
  {
   "cell_type": "code",
   "execution_count": 2,
   "id": "f84457c7",
   "metadata": {},
   "outputs": [
    {
     "name": "stdout",
     "output_type": "stream",
     "text": [
      "500.0 15.811388300841896\n"
     ]
    }
   ],
   "source": [
    "# Гипотеза и вывод\n",
    "import math\n",
    "import random\n",
    "\n",
    "\n",
    "# code from probability_theory.ipynb\n",
    "\n",
    "def normal_cdf(x, mu=0, sigma=1):\n",
    "    \"\"\"\n",
    "    ИРФ Нормального распределения\n",
    "    \"\"\"\n",
    "    return (1 + math.erf((x - mu) / math.sqrt(2) / sigma )) / 2\n",
    "\n",
    "\n",
    "def inverse_normal_cdf(p, mu=0, sigma=1, tolerance=0.00001):\n",
    "    \"\"\"\n",
    "    Найти приближенную инверсию, используя двоичный поиск\n",
    "    \"\"\"\n",
    "    # если не стандартизированно, то стандартизировать и прошкалировать\n",
    "    if mu != 0 or sigma != 1:\n",
    "        return mu + sigma * inverse_normal_cdf(p, tolerance=tolerance)\n",
    "    \n",
    "    low_z, low_p = -10, 0\n",
    "    hi_z, hi_p = 10, 1\n",
    "    while hi_z - low_z > tolerance:\n",
    "        mid_z = (low_z + hi_z) / 2\n",
    "        mid_p = (low_z + hi_z) / 2\n",
    "        if mid_p < p:\n",
    "            #значение середины все еще слишком низкое, искать выше\n",
    "            low_z, low_p = mid_z, mid_p\n",
    "        elif mid_p > p:\n",
    "            #значение середины все еще слишком высокое - искать ниже\n",
    "            hi_z, hi_p = mid_z, mid_p\n",
    "        else:\n",
    "            break\n",
    "    \n",
    "    return mid_z\n",
    "\n",
    "\n",
    "# new code\n",
    "\n",
    "def normal_approximation_to_binominal(n, p):\n",
    "    \"\"\"\n",
    "    Аппроксимация биноминальной случайной величины нормальным распределением\n",
    "    \"\"\"\n",
    "    # находим mu и sigma, которые соответствуют binominal(n, p)\n",
    "    mu = p * n\n",
    "    sigma = math.sqrt(p * (1 - p) * n)\n",
    "    \n",
    "    return mu, sigma\n",
    "\n",
    "\n",
    "# вероятность, что значение нормальной случайной величины лежит ниже порогового значения\n",
    "normal_probability_below = normal_cdf\n",
    "\n",
    "\n",
    "def normal_probability_above(lo, mu=0, sigma=1):\n",
    "    \"\"\"\n",
    "    оно выше порогового значения, если оно не ниже\n",
    "    \"\"\"\n",
    "    return 1 - normal_cdf(lo, mu, sigma)\n",
    "\n",
    "\n",
    "def normal_probability_between(lo, hi, mu=0, sigma=1):\n",
    "    \"\"\"\n",
    "    оно лежитм между, если меньше hi и больше lo\n",
    "    \"\"\"\n",
    "    return normal_cdf(hi, mu, sigma) - normal_cdf(lo, mu, sigma)\n",
    "\n",
    "\n",
    "def normal_probabiliy_outside(lo, hi, mu, sigma=1):\n",
    "    \"\"\"\n",
    "    оно лежит за пределами, если оно не внутри\n",
    "    \"\"\"\n",
    "    return 1 - normal_probability_between(lo, hi, mu, sigma)\n",
    "\n",
    "\n",
    "def normal_upper_bound(probability, mu=0, sigma=1):\n",
    "    \"\"\"\n",
    "    верхняя граница нормальной величины\n",
    "    возвращает z, для которого P(Z <= z) = probability\n",
    "    \"\"\"\n",
    "    return inverse_normal_cdf(probability, mu, sigma)\n",
    "\n",
    "\n",
    "def normal_lower_bound(probability, mu=0, sigma=1):\n",
    "    \"\"\"\n",
    "    Нижняя граница нормальной величины\n",
    "    Возвращает z, для которого P(Z >= z) = probability\n",
    "    \"\"\"\n",
    "    return inverse_normal_cdf(1-probability, mu, sigma)\n",
    "    \n",
    "\n",
    "def normal_two_sided_bounds(probability, mu=0, sigma=1):\n",
    "    \"\"\"\n",
    "    Возвращает симметричные (вокруг среднего значения) границы,\n",
    "    в пределах которых содержится указанная вероятность\n",
    "    \"\"\"\n",
    "    tail_probability = (1 - probability) / 2\n",
    "    \n",
    "    # верхняя граница должна иметь значение хвостовой вероятности\n",
    "    upper_bound = normal_lower_bound(tail_probability, mu, sigma)\n",
    "    \n",
    "    # нижняя граница должна иметь значение хвостовой вероятности\n",
    "    lower_bound = normal_upper_bound(tail_probability, mu, sigma)\n",
    "    \n",
    "    return lower_bound, upper_bound\n",
    "\n",
    "\n",
    "# 1000 бросков монеты -> (среднее значение, стандартное отклонение)\n",
    "mu_0, sigma_0 = normal_approximation_to_binominal(1000, 0.5)\n",
    "print(mu_0, sigma_0)"
   ]
  },
  {
   "cell_type": "code",
   "execution_count": 3,
   "id": "1ea9fe10",
   "metadata": {},
   "outputs": [
    {
     "name": "stdout",
     "output_type": "stream",
     "text": [
      "500.39521836029536 515.4162302562063\n"
     ]
    }
   ],
   "source": [
    "# 95% границы, при условии, что p=0.5\n",
    "lo, hi = normal_two_sided_bounds(0.95, mu_0, sigma_0)\n",
    "print(lo, hi)"
   ]
  },
  {
   "cell_type": "code",
   "execution_count": 4,
   "id": "c57e4fb4",
   "metadata": {},
   "outputs": [
    {
     "name": "stdout",
     "output_type": "stream",
     "text": [
      "550.0 15.732132722552274\n"
     ]
    }
   ],
   "source": [
    "# фактические mu и sigma при p=0.55\n",
    "mu_1, sigma_1 = normal_approximation_to_binominal(1000, 0.55)\n",
    "print(mu_1, sigma_1)"
   ]
  },
  {
   "cell_type": "code",
   "execution_count": 5,
   "id": "dde814ff",
   "metadata": {},
   "outputs": [
    {
     "name": "stdout",
     "output_type": "stream",
     "text": [
      "Мощность = 0.986843499293525\n"
     ]
    }
   ],
   "source": [
    "# Ошибка второго рода означает: не удалось отклонить нулевую гипотезу\n",
    "# это происходит, когда X все еще внутри первоначального интервала\n",
    "type_2_probability = normal_probability_between(lo, hi, mu_1, sigma_1)\n",
    "power = 1 - type_2_probability\n",
    "print(f'Мощность = {power}')"
   ]
  },
  {
   "cell_type": "code",
   "execution_count": 6,
   "id": "7c862e2e",
   "metadata": {},
   "outputs": [
    {
     "name": "stdout",
     "output_type": "stream",
     "text": [
      "515.0208611067616\n"
     ]
    }
   ],
   "source": [
    "# верхняя граница нормальной случайной величины\n",
    "hi = normal_upper_bound(0.95, mu_0, sigma_0)\n",
    "print(hi)"
   ]
  },
  {
   "cell_type": "code",
   "execution_count": 7,
   "id": "dc8d1463",
   "metadata": {},
   "outputs": [
    {
     "name": "stdout",
     "output_type": "stream",
     "text": [
      "Мощность = 0.9869062545985033\n"
     ]
    }
   ],
   "source": [
    "# вероятность ошибки второго рода\n",
    "type_2_probability = normal_probability_below(hi, mu_1, sigma_1)\n",
    "power = 1 - type_2_probability\n",
    "print(f'Мощность = {power}')"
   ]
  },
  {
   "cell_type": "code",
   "execution_count": 8,
   "id": "75130e4a",
   "metadata": {},
   "outputs": [
    {
     "name": "stdout",
     "output_type": "stream",
     "text": [
      "0.06207721579598835\n"
     ]
    }
   ],
   "source": [
    "# P-значения\n",
    "\n",
    "def two_sided_p_value(x, mu=0, sigma=1):\n",
    "    if x >= mu:\n",
    "        #если x больше среднего значения, то значения в хвосте больше x\n",
    "        return 2 * normal_probability_above(x, mu, sigma)\n",
    "    else:\n",
    "        #если x меньше среднего значения, то значения в хвосте меньше x\n",
    "        return 2 * normal_probability_below(x, mu, sigma)\n",
    "    \n",
    "\n",
    "print(two_sided_p_value(529.5, mu_0, sigma_0))"
   ]
  },
  {
   "cell_type": "code",
   "execution_count": null,
   "id": "382b37fd",
   "metadata": {},
   "outputs": [],
   "source": [
    "# чтобы убедиться, что результат разумен, проводим модельное испытание\n",
    "extreme_value_count = 0\n",
    "for _ in range(100000):\n",
    "    num_heads = sum(1 if random.random() < 0.5 else 0 for _ in range(100000))\n",
    "    if num_heads >= 530 or num_heads <= 470:\n",
    "        extreme_value_count += 1\n",
    "\n",
    "print(extreme_value_count)"
   ]
  },
  {
   "cell_type": "code",
   "execution_count": null,
   "id": "b53f671b",
   "metadata": {},
   "outputs": [],
   "source": [
    "# Для проведения односторонней проверки при выпадении 525 орлов получаем\n",
    "print(upper_p_value(524.5, mu_0, sigma_0))"
   ]
  },
  {
   "cell_type": "code",
   "execution_count": null,
   "id": "98d65523",
   "metadata": {},
   "outputs": [],
   "source": [
    "# при выпадении 547 орлов получим\n",
    "print(upper_p_value(526.5, mu_0, sigma_0))"
   ]
  },
  {
   "cell_type": "code",
   "execution_count": null,
   "id": "b29c406c",
   "metadata": {},
   "outputs": [],
   "source": [
    "# Доверительные интервалы\n",
    "# среднее случайных величин с распределением Бернулли\n",
    "# average_limit = math.sqrt(p * (1 -p) / 1000)\n",
    "\n",
    "# по скольку значение p неизвестно используется другая оценка\n",
    "p_hat = 525 / 1000\n",
    "mu = p_hat\n",
    "sigma = math.sqrt(p_hat * (1 - p_hat) / 1000)\n",
    "print(normal_two_sided_bounds(0.95, mu, sigma))"
   ]
  },
  {
   "cell_type": "code",
   "execution_count": null,
   "id": "fce2a6a5",
   "metadata": {},
   "outputs": [],
   "source": []
  },
  {
   "cell_type": "code",
   "execution_count": null,
   "id": "70f26a0e",
   "metadata": {},
   "outputs": [],
   "source": []
  },
  {
   "cell_type": "code",
   "execution_count": null,
   "id": "3464b7c0",
   "metadata": {},
   "outputs": [],
   "source": []
  }
 ],
 "metadata": {
  "kernelspec": {
   "display_name": "Python 3 (ipykernel)",
   "language": "python",
   "name": "python3"
  },
  "language_info": {
   "codemirror_mode": {
    "name": "ipython",
    "version": 3
   },
   "file_extension": ".py",
   "mimetype": "text/x-python",
   "name": "python",
   "nbconvert_exporter": "python",
   "pygments_lexer": "ipython3",
   "version": "3.9.12"
  }
 },
 "nbformat": 4,
 "nbformat_minor": 5
}
