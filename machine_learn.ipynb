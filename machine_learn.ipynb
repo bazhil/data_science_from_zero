{
 "cells": [
  {
   "cell_type": "code",
   "execution_count": 2,
   "id": "f45ea692",
   "metadata": {},
   "outputs": [
    {
     "ename": "NameError",
     "evalue": "name 'SomeKindOfMOdel' is not defined",
     "output_type": "error",
     "traceback": [
      "\u001b[0;31m---------------------------------------------------------------------------\u001b[0m",
      "\u001b[0;31mNameError\u001b[0m                                 Traceback (most recent call last)",
      "Input \u001b[0;32mIn [2]\u001b[0m, in \u001b[0;36m<cell line: 23>\u001b[0;34m()\u001b[0m\n\u001b[1;32m     19\u001b[0m     x_test, y_test \u001b[38;5;241m=\u001b[39m \u001b[38;5;28mzip\u001b[39m(\u001b[38;5;241m*\u001b[39mtest)\n\u001b[1;32m     21\u001b[0m     \u001b[38;5;28;01mreturn\u001b[39;00m x_train, x_test, y_train, y_test\n\u001b[0;32m---> 23\u001b[0m model \u001b[38;5;241m=\u001b[39m \u001b[43mSomeKindOfMOdel\u001b[49m()\n\u001b[1;32m     24\u001b[0m x_train, x_test, y_train, y_test \u001b[38;5;241m=\u001b[39m train_test_split(xs, ys, \u001b[38;5;241m0.33\u001b[39m)\n\u001b[1;32m     25\u001b[0m model\u001b[38;5;241m.\u001b[39mtrain(x_train, y_train)\n",
      "\u001b[0;31mNameError\u001b[0m: name 'SomeKindOfMOdel' is not defined"
     ]
    }
   ],
   "source": [
    "# Машинное обучение\n",
    "from random import random\n",
    "\n",
    "def split_data(data, prob):\n",
    "    \"\"\"\n",
    "    TODO: убедиться, что нормально работает, смущает объявление results\n",
    "    сегментирование данных на части\n",
    "    \"\"\"\n",
    "    results = [], []\n",
    "    for row in data:\n",
    "        results[0 if random() < prob else 1].append(row)\n",
    "    \n",
    "    return results\n",
    "\n",
    "def train_test_split(x, y, test_pct):\n",
    "    data = zip(x, y)\n",
    "    train, test = split_data(data, 1 - test_pct)\n",
    "    x_train, y_train = zip(*train)\n",
    "    x_test, y_test = zip(*test)\n",
    "    \n",
    "    return x_train, x_test, y_train, y_test\n",
    "\n",
    "model = SomeKindOfMOdel()\n",
    "x_train, x_test, y_train, y_test = train_test_split(xs, ys, 0.33)\n",
    "model.train(x_train, y_train)\n",
    "perfomance = model.test(x_test, y_test)"
   ]
  },
  {
   "cell_type": "code",
   "execution_count": null,
   "id": "dafdbde3",
   "metadata": {},
   "outputs": [],
   "source": []
  }
 ],
 "metadata": {
  "kernelspec": {
   "display_name": "Python 3 (ipykernel)",
   "language": "python",
   "name": "python3"
  },
  "language_info": {
   "codemirror_mode": {
    "name": "ipython",
    "version": 3
   },
   "file_extension": ".py",
   "mimetype": "text/x-python",
   "name": "python",
   "nbconvert_exporter": "python",
   "pygments_lexer": "ipython3",
   "version": "3.9.12"
  }
 },
 "nbformat": 4,
 "nbformat_minor": 5
}
