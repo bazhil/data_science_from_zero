{
 "cells": [
  {
   "cell_type": "code",
   "execution_count": 14,
   "id": "c18faf69",
   "metadata": {},
   "outputs": [],
   "source": [
    "from collections import Counter\n",
    "from random import random, seed\n",
    "import math\n",
    "import matplotlib.pyplot as plt\n",
    "\n",
    "# Исследование одномерных данных\n",
    "\n",
    "def backetize(point, bucket_size):\n",
    "    \"\"\"\n",
    "    приводит точку данных к номеру интервала\n",
    "    \"\"\"\n",
    "    # округлить точку до следующего наименьшегго кратного размера интервала bucket_size\n",
    "    return bucket_size * math.floor(point / bucket_size)\n",
    "\n",
    "\n",
    "def make_histogram(points, bucket_size):\n",
    "    \"\"\"\n",
    "    готовит гистограмму\n",
    "    \"\"\"\n",
    "    return Counter(backetize(point, bucket_size) for point in points)\n",
    "\n",
    "\n",
    "def plot_histogram(points, bucket_size, title=''):\n",
    "    \"\"\"\n",
    "    печать гистограммы\n",
    "    \"\"\"\n",
    "    histogram = make_histogram(points, bucket_size)\n",
    "    plt.bar(histogram.keys(), histogram.values(), width=bucket_size)\n",
    "    plt.title(title)\n",
    "    plt.show()\n",
    "\n",
    "    \n",
    "\n",
    "def inverse_normal_cdf(p, mu=0, sigma=1, tolerance=0.00001):\n",
    "    \"\"\"\n",
    "    Найти приближенную инверсию, используя двоичный поиск\n",
    "    copy from hypothesis_and_conclusion\n",
    "    \"\"\"\n",
    "    # если не стандартизированно, то стандартизировать и прошкалировать\n",
    "    if mu != 0 or sigma != 1:\n",
    "        return mu + sigma * inverse_normal_cdf(p, tolerance=tolerance)\n",
    "    \n",
    "    low_z, low_p = -10, 0\n",
    "    hi_z, hi_p = 10, 1\n",
    "    while hi_z - low_z > tolerance:\n",
    "        mid_z = (low_z + hi_z) / 2\n",
    "        mid_p = (low_z + hi_z) / 2\n",
    "        if mid_p < p:\n",
    "            #значение середины все еще слишком низкое, искать выше\n",
    "            low_z, low_p = mid_z, mid_p\n",
    "        elif mid_p > p:\n",
    "            #значение середины все еще слишком высокое - искать ниже\n",
    "            hi_z, hi_p = mid_z, mid_p\n",
    "        else:\n",
    "            break\n",
    "    \n",
    "    return mid_z"
   ]
  },
  {
   "cell_type": "code",
   "execution_count": 25,
   "id": "1a6f4147",
   "metadata": {},
   "outputs": [],
   "source": [
    "seed(0)\n",
    "\n",
    "# рассмотрим два набора данных\n",
    "# 1 - равномерно распределенные между -100 и 100\n",
    "uniform = [200 * random() - 100 for _ in range(10000)]\n",
    "\n",
    "# 2 - нормально распределенные с нулевым средним, стандартным отклонением 57\n",
    "normal = [57 * inverse_normal_cdf(random()) for _ in range(10000)]"
   ]
  },
  {
   "cell_type": "code",
   "execution_count": 26,
   "id": "c829024b",
   "metadata": {},
   "outputs": [
    {
     "data": {
      "image/png": "[encoded data removed]",
      "text/plain": [
       "<Figure size 432x288 with 1 Axes>"
      ]
     },
     "metadata": {
      "needs_background": "light"
     },
     "output_type": "display_data"
    }
   ],
   "source": [
    "plot_histogram(uniform, 10, 'Гистограмма равномерных величин')"
   ]
  },
  {
   "cell_type": "code",
   "execution_count": 27,
   "id": "b46e603e",
   "metadata": {},
   "outputs": [
    {
     "data": {
      "image/png": "[encoded data removed]",
      "text/plain": [
       "<Figure size 432x288 with 1 Axes>"
      ]
     },
     "metadata": {
      "needs_background": "light"
     },
     "output_type": "display_data"
    }
   ],
   "source": [
    "plot_histogram(normal, 10, 'Гистограмма нормальных величин')"
   ]
  },
  {
   "cell_type": "code",
   "execution_count": null,
   "id": "61fa6ac4",
   "metadata": {},
   "outputs": [],
   "source": []
  }
 ],
 "metadata": {
  "kernelspec": {
   "display_name": "Python 3 (ipykernel)",
   "language": "python",
   "name": "python3"
  },
  "language_info": {
   "codemirror_mode": {
    "name": "ipython",
    "version": 3
   },
   "file_extension": ".py",
   "mimetype": "text/x-python",
   "name": "python",
   "nbconvert_exporter": "python",
   "pygments_lexer": "ipython3",
   "version": "3.9.12"
  }
 },
 "nbformat": 4,
 "nbformat_minor": 5
}
