{
 "cells": [
  {
   "cell_type": "code",
   "execution_count": 7,
   "id": "c18faf69",
   "metadata": {},
   "outputs": [],
   "source": [
    "from collections import Counter\n",
    "from random import random, seed\n",
    "import math\n",
    "import matplotlib.pyplot as plt\n",
    "\n",
    "# Исследование одномерных данных\n",
    "\n",
    "def backetize(point, bucket_size):\n",
    "    \"\"\"\n",
    "    приводит точку данных к номеру интервала\n",
    "    \"\"\"\n",
    "    # округлить точку до следующего наименьшегго кратного размера интервала bucket_size\n",
    "    return bucket_size * math.floor(point / bucket_size)\n",
    "\n",
    "\n",
    "def make_histogram(points, bucket_size):\n",
    "    \"\"\"\n",
    "    готовит гистограмму\n",
    "    \"\"\"\n",
    "    return Counter(backetize(point, bucket_size) for point in points)\n",
    "\n",
    "\n",
    "def plot_histogram(points, bucket_size, title=''):\n",
    "    \"\"\"\n",
    "    печать гистограммы\n",
    "    \"\"\"\n",
    "    histogram = make_histogram(points, bucket_size)\n",
    "    plt.bar(histogram.keys(), histogram.values(), width=bucket_size)\n",
    "    plt.title(title)\n",
    "    plt.xlim([-200, 200])\n",
    "    plt.show()\n",
    "\n",
    "    \n",
    "\n",
    "def inverse_normal_cdf(p, mu=0, sigma=1, tolerance=0.00001):\n",
    "    \"\"\"\n",
    "    Найти приближенную инверсию, используя двоичный поиск\n",
    "    copy from hypothesis_and_conclusion\n",
    "    \"\"\"\n",
    "    # если не стандартизированно, то стандартизировать и прошкалировать\n",
    "    if mu != 0 or sigma != 1:\n",
    "        return mu + sigma * inverse_normal_cdf(p, tolerance=tolerance)\n",
    "    \n",
    "    low_z, low_p = -10, 0\n",
    "    hi_z, hi_p = 10, 1\n",
    "    while hi_z - low_z > tolerance:\n",
    "        mid_z = (low_z + hi_z) / 2\n",
    "        mid_p = (low_z + hi_z) / 2\n",
    "        if mid_p < p:\n",
    "            #значение середины все еще слишком низкое, искать выше\n",
    "            low_z, low_p = mid_z, mid_p\n",
    "        elif mid_p > p:\n",
    "            #значение середины все еще слишком высокое - искать ниже\n",
    "            hi_z, hi_p = mid_z, mid_p\n",
    "        else:\n",
    "            break\n",
    "    \n",
    "    return mid_z"
   ]
  },
  {
   "cell_type": "code",
   "execution_count": 8,
   "id": "1a6f4147",
   "metadata": {},
   "outputs": [],
   "source": [
    "seed(0)\n",
    "\n",
    "# рассмотрим два набора данных\n",
    "# 1 - равномерно распределенные между -100 и 100\n",
    "uniform = [200 * random() - 100 for _ in range(10000)]\n",
    "\n",
    "# 2 - нормально распределенные с нулевым средним, стандартным отклонением 57\n",
    "normal = [57 * inverse_normal_cdf(random()) for _ in range(10000)]"
   ]
  },
  {
   "cell_type": "code",
   "execution_count": 9,
   "id": "c829024b",
   "metadata": {},
   "outputs": [
    {
     "data": {
      "image/png": "[encoded data removed]",
      "text/plain": [
       "<Figure size 432x288 with 1 Axes>"
      ]
     },
     "metadata": {
      "needs_background": "light"
     },
     "output_type": "display_data"
    }
   ],
   "source": [
    "plot_histogram(uniform, 10, 'Гистограмма равномерных величин')"
   ]
  },
  {
   "cell_type": "code",
   "execution_count": 10,
   "id": "b46e603e",
   "metadata": {},
   "outputs": [
    {
     "data": {
      "image/png": "[encoded data removed]",
      "text/plain": [
       "<Figure size 432x288 with 1 Axes>"
      ]
     },
     "metadata": {
      "needs_background": "light"
     },
     "output_type": "display_data"
    }
   ],
   "source": [
    "plot_histogram(normal, 10, 'Гистограмма нормальных величин')"
   ]
  },
  {
   "cell_type": "code",
   "execution_count": 16,
   "id": "61fa6ac4",
   "metadata": {},
   "outputs": [],
   "source": [
    "# Двумерные данные\n",
    "def random_normal():\n",
    "    \"\"\"\n",
    "    возвращает нормальную выборку стандартного нормального отклонения\n",
    "    \"\"\"\n",
    "    return inverse_normal_cdf(random())\n",
    "\n",
    "xs = [random_normal() for _ in range(1000)]\n",
    "ys1 = [x + random_normal() / 2 for x in xs]\n",
    "ys2 = [-x + random_normal() / 2 for x in xs]"
   ]
  },
  {
   "cell_type": "code",
   "execution_count": 19,
   "id": "9d2b5aaf",
   "metadata": {},
   "outputs": [
    {
     "data": {
      "image/png": "[encoded data removed]",
      "text/plain": [
       "<Figure size 432x288 with 1 Axes>"
      ]
     },
     "metadata": {
      "needs_background": "light"
     },
     "output_type": "display_data"
    }
   ],
   "source": [
    "plt.scatter(xs, ys1, marker='.', color='black', label='ys1')\n",
    "plt.scatter(xs, ys2, marker='.', color='grey', label='ys2')\n",
    "plt.xlabel('xs')\n",
    "plt.ylabel('ys')\n",
    "plt.xlim([-3, 3])\n",
    "plt.legend(loc=9)\n",
    "plt.title('Очень разное совместное распределение')\n",
    "plt.show()"
   ]
  },
  {
   "cell_type": "code",
   "execution_count": 36,
   "id": "630ac41a",
   "metadata": {},
   "outputs": [
    {
     "name": "stdout",
     "output_type": "stream",
     "text": [
      "-9.456485946925602\n",
      "-11.3742000962171\n"
     ]
    }
   ],
   "source": [
    "# (Скопировал из statistic.ipynb) \n",
    "def mean(x):\n",
    "    return sum(x) / len(x)\n",
    "\n",
    "def de_mean(x):\n",
    "    \"\"\"\n",
    "    Вектор отклонений от среднего\n",
    "    пересчитать x, вычтя его среднее (среднее результата будет = 0)\n",
    "    \"\"\"\n",
    "    x_bar = mean(x)\n",
    "    \n",
    "    return [x_i - x_bar for x_i in x]\n",
    "\n",
    "def dot(v, w):\n",
    "    \"\"\"\n",
    "    v_1 * w_1 + ... + v_n * w_n\n",
    "    \"\"\"\n",
    "    return sum(v_i * w_i for v_i, w_i in zip(v, w))\n",
    "\n",
    "# сумма квадратов вектора\n",
    "def sum_of_squares(v):\n",
    "    \"\"\"\n",
    "    v_1 * v_1 + ... + v_n * v_n\n",
    "    \"\"\"\n",
    "    return dot(v, v)\n",
    "\n",
    "def variance(x):\n",
    "    \"\"\"\n",
    "    дисперсия - средняя сумма квадратов отклонений от среднего\n",
    "    \"\"\"\n",
    "    n = len(x)\n",
    "    deviations = de_mean(x)\n",
    "    \n",
    "    return sum_of_squares(deviations) / (n - 1)\n",
    "\n",
    "# стандартное отклонение\n",
    "def standart_deviation(x):\n",
    "    return math.sqrt(variance(x))\n",
    "\n",
    "# ковариация - совместное отклонение переменных от их среднего\n",
    "def covariance(x, y):\n",
    "    n = len(x)\n",
    "    return dot(de_mean(x), de_mean(y)) / n - 1\n",
    "\n",
    "# корреляция\n",
    "def correlation(x, y):\n",
    "    \"\"\"\n",
    "    \n",
    "    \"\"\"\n",
    "    stdev_x = standart_deviation(x)\n",
    "    stdev_y = standart_deviation(y)\n",
    "    \n",
    "    if stdev_x > 0 and stdev_y > 0:\n",
    "        return covariance(x, y) / stdev_x / stdev_y\n",
    "    else:\n",
    "        return 0\n",
    "\n",
    "print(correlation(xs, ys1))\n",
    "print(correlation(xs, ys2))"
   ]
  },
  {
   "cell_type": "code",
   "execution_count": 37,
   "id": "163ae5bb",
   "metadata": {},
   "outputs": [],
   "source": [
    "# Многомерные матрицы\n",
    "def make_matrix(num_rows, num_cols, entry_fn):\n",
    "    \"\"\"\n",
    "    создает матрицу по переданным параметрам\n",
    "    \"\"\"\n",
    "    return [[entry_fn(i, j)\n",
    "           for j in range(num_cols)]\n",
    "           for i in range(num_rows)]\n",
    "\n",
    "def correlation_matrix(data):\n",
    "    _, num_columns = shape(data)\n",
    "    \n",
    "    def matrix_entry(i, j):\n",
    "        return correlation(get_column(data, i), get_column(data, j))\n",
    "    \n",
    "    return make_matrix(num_columns, num_columns, matrix_entry)"
   ]
  },
  {
   "cell_type": "code",
   "execution_count": null,
   "id": "6aa57199",
   "metadata": {},
   "outputs": [],
   "source": []
  },
  {
   "cell_type": "code",
   "execution_count": null,
   "id": "480a3802",
   "metadata": {},
   "outputs": [],
   "source": []
  }
 ],
 "metadata": {
  "kernelspec": {
   "display_name": "Python 3 (ipykernel)",
   "language": "python",
   "name": "python3"
  },
  "language_info": {
   "codemirror_mode": {
    "name": "ipython",
    "version": 3
   },
   "file_extension": ".py",
   "mimetype": "text/x-python",
   "name": "python",
   "nbconvert_exporter": "python",
   "pygments_lexer": "ipython3",
   "version": "3.9.12"
  }
 },
 "nbformat": 4,
 "nbformat_minor": 5
}
