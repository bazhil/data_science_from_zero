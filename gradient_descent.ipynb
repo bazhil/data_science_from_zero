{
 "cells": [
  {
   "cell_type": "code",
   "execution_count": 20,
   "id": "f67fdb24",
   "metadata": {},
   "outputs": [
    {
     "data": {
      "image/png": "[encoded data removed]",
      "text/plain": [
       "<Figure size 432x288 with 1 Axes>"
      ]
     },
     "metadata": {
      "needs_background": "light"
     },
     "output_type": "display_data"
    }
   ],
   "source": [
    "import matplotlib.pyplot as plt\n",
    "from functools import partial\n",
    "import random\n",
    "\n",
    "# Градиент - вектор, составленный из частных производных\n",
    "\n",
    "def sum_of_squares(v):\n",
    "    \"\"\"\n",
    "    Вычисляет сумму квадратов элементов вектора v\n",
    "    \"\"\"\n",
    "    return sum([v_i ** 2 for v_i in v])\n",
    "\n",
    "\n",
    "def square(x):\n",
    "    return x**x\n",
    "\n",
    "# Вычисление градиента\n",
    "def difference_quotient(f, x, h):\n",
    "    return (f(x + h) - f(x)) / h\n",
    "\n",
    "#оценка производной\n",
    "derivative_extimate = partial(difference_quotient, square, h=0.00001)\n",
    "\n",
    "# построение диаграммы, для демонстрации фактических производных\n",
    "xs = range(-10, 10)\n",
    "ls1 = [2*x for x in xs]\n",
    "ls2 = [derivative_extimate(x) for x in xs]\n",
    "plt.title('Фактические производные и их оценки в сравнении')\n",
    "plt.plot(xs, ls1, 'rx', label='Факт')\n",
    "plt.plot(xs, ls2, 'b+', label='Оценка')\n",
    "plt.legend(loc=9)\n",
    "plt.show()\n"
   ]
  },
  {
   "cell_type": "code",
   "execution_count": 21,
   "id": "6371ef1a",
   "metadata": {},
   "outputs": [],
   "source": [
    "# выше что-то пошло не так, как в книге. Видимо не оттуда импортировал partial"
   ]
  },
  {
   "cell_type": "code",
   "execution_count": 22,
   "id": "9458c90e",
   "metadata": {},
   "outputs": [],
   "source": [
    "# частное отношение приращений\n",
    "def partial_difference_quotient(f, v, i, h):\n",
    "    \"\"\"\n",
    "    Вычислить i-e частное отношение приращений функции f в векторе v\n",
    "    \"\"\"\n",
    "    w = [v_j + (h if j == i else 0) for j, v_j in enumerate(v)]\n",
    "    \n",
    "    return (f(w) - f(v)) / h\n",
    "\n",
    "\n",
    "# оценить градиент\n",
    "def estimate_gradient(f, v, h=0.00001):\n",
    "    return [partial_difference_quotient(f, v, i, h) for i, _ in enumerate(v)]"
   ]
  },
  {
   "cell_type": "code",
   "execution_count": 23,
   "id": "6952f6f4",
   "metadata": {},
   "outputs": [
    {
     "ename": "NameError",
     "evalue": "name 'distance' is not defined",
     "output_type": "error",
     "traceback": [
      "\u001b[0;31m---------------------------------------------------------------------------\u001b[0m",
      "\u001b[0;31mNameError\u001b[0m                                 Traceback (most recent call last)",
      "Input \u001b[0;32mIn [23]\u001b[0m, in \u001b[0;36m<cell line: 22>\u001b[0;34m()\u001b[0m\n\u001b[1;32m     22\u001b[0m gradient \u001b[38;5;241m=\u001b[39m sum_of_squares_gradient(v)\n\u001b[1;32m     23\u001b[0m next_v \u001b[38;5;241m=\u001b[39m step(v, gradient, \u001b[38;5;241m-\u001b[39m\u001b[38;5;241m0.01\u001b[39m)\n\u001b[0;32m---> 24\u001b[0m \u001b[38;5;28;01mif\u001b[39;00m \u001b[43mdistance\u001b[49m(next_v, v) \u001b[38;5;241m<\u001b[39m tolerance:\n\u001b[1;32m     25\u001b[0m     \u001b[38;5;28;01mbreak\u001b[39;00m\n\u001b[1;32m     26\u001b[0m v \u001b[38;5;241m=\u001b[39m next_v\n",
      "\u001b[0;31mNameError\u001b[0m: name 'distance' is not defined"
     ]
    }
   ],
   "source": [
    "# Использование градиента\n",
    "\n",
    "def step(v, direction, step_size):\n",
    "    \"\"\"\n",
    "    шаг градиента\n",
    "    \"\"\"\n",
    "    return [v_i + step_size * direction_i for v_i, direction_i in zip(v, direction)]\n",
    "\n",
    "def sum_of_squares_gradient(v):\n",
    "    \"\"\"\n",
    "    градиент суммы квадратов\n",
    "    \"\"\"\n",
    "    return [2 * v_i for v_i in v]\n",
    "\n",
    "# выбрать произвольную отправную точку\n",
    "v = [random.randint(-10, 10) for i in range(3)]\n",
    "\n",
    "# константа точности расчета\n",
    "tolerance = 0.0000001\n",
    "\n",
    "while True:\n",
    "    gradient = sum_of_squares_gradient(v)\n",
    "    next_v = step(v, gradient, -0.01)\n",
    "    # не понятно откуда в книге взялся distance     \n",
    "    if distance(next_v, v) < tolerance:\n",
    "        break\n",
    "    v = next_v\n",
    "    "
   ]
  },
  {
   "cell_type": "code",
   "execution_count": null,
   "id": "6fe9159d",
   "metadata": {},
   "outputs": [],
   "source": []
  }
 ],
 "metadata": {
  "kernelspec": {
   "display_name": "Python 3 (ipykernel)",
   "language": "python",
   "name": "python3"
  },
  "language_info": {
   "codemirror_mode": {
    "name": "ipython",
    "version": 3
   },
   "file_extension": ".py",
   "mimetype": "text/x-python",
   "name": "python",
   "nbconvert_exporter": "python",
   "pygments_lexer": "ipython3",
   "version": "3.9.12"
  }
 },
 "nbformat": 4,
 "nbformat_minor": 5
}
