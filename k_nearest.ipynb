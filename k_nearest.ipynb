{
 "cells": [
  {
   "cell_type": "code",
   "execution_count": 2,
   "id": "349f917a",
   "metadata": {},
   "outputs": [],
   "source": [
    "from collections import Counter\n",
    "# К ближайших соседей\n",
    "\n",
    "def raw_majority_vote(labels):\n",
    "    \"\"\"\n",
    "    Грубый подсчет большинства голосов\n",
    "    \"\"\"\n",
    "    votes = Counter(labels)\n",
    "    winner, _ = votes.most_common(1)[0]\n",
    "    \n",
    "    return winner\n",
    "\n",
    "\n",
    "def majority_vote(labels):\n",
    "    \"\"\"\n",
    "    Подразумевает, что метки упорядочены от ближайшей до самой удаленной\n",
    "    \"\"\"\n",
    "    vote_counts = Counter(labels)\n",
    "    winner, winner_count = votes.most_common(1)[0]\n",
    "    num_winners = len([count for count in vote_counts.values() if count == winner_count])\n",
    "    # если победитель один - возвращаем его     \n",
    "    if num_winners == 1:\n",
    "        return winner\n",
    "    \n",
    "    return majority_vote(labels[:-1])\n",
    "\n",
    "\n",
    "def knn_classify(k, labeled_points, new_point):\n",
    "    \"\"\"\n",
    "    каждая маркированная точка должна быть представлена парой (точка, метка)\n",
    "    \"\"\"\n",
    "#     TODO: переписать по человечески!!!\n",
    "    # упорядочить маркированные точки, от ближайшей до самой удаленной     \n",
    "#     by_distance = sorted(labeled_points, key=lambda(point, _): distance(point, new, point))\n",
    "    \n",
    "    # найти метки для k-ближайших\n",
    "    k_nearest_labels = [label for _, label in by_distance[:k]]\n",
    "    \n",
    "    # и дать им проголосовать\n",
    "    return majority_vote(k_nearest_labels)"
   ]
  },
  {
   "cell_type": "code",
   "execution_count": null,
   "id": "44f2dc86",
   "metadata": {},
   "outputs": [],
   "source": [
    "\n"
   ]
  }
 ],
 "metadata": {
  "kernelspec": {
   "display_name": "Python 3 (ipykernel)",
   "language": "python",
   "name": "python3"
  },
  "language_info": {
   "codemirror_mode": {
    "name": "ipython",
    "version": 3
   },
   "file_extension": ".py",
   "mimetype": "text/x-python",
   "name": "python",
   "nbconvert_exporter": "python",
   "pygments_lexer": "ipython3",
   "version": "3.9.12"
  }
 },
 "nbformat": 4,
 "nbformat_minor": 5
}
